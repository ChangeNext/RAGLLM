{
 "cells": [
  {
   "cell_type": "code",
   "execution_count": 1,
   "metadata": {},
   "outputs": [
    {
     "name": "stderr",
     "output_type": "stream",
     "text": [
      "/root/anaconda3/envs/llm-motion/lib/python3.8/site-packages/tqdm/auto.py:21: TqdmWarning: IProgress not found. Please update jupyter and ipywidgets. See https://ipywidgets.readthedocs.io/en/stable/user_install.html\n",
      "  from .autonotebook import tqdm as notebook_tqdm\n",
      "Special tokens have been added in the vocabulary, make sure the associated word embeddings are fine-tuned or trained.\n"
     ]
    },
    {
     "name": "stdout",
     "output_type": "stream",
     "text": [
      "trainable params: 4,358,144 || all params: 1,548,072,448 || trainable%: 0.2815\n",
      "###### ----load TMR motion encoder weight---- #######\n",
      "###### ----load temos motion encoder weight---- #######\n",
      "###### ----Freezing the MEs---- ######\n",
      "Qwen/Qwen2-1.5B\n"
     ]
    },
    {
     "name": "stderr",
     "output_type": "stream",
     "text": [
      "We detected that you are passing `past_key_values` as a tuple and this is deprecated and will be removed in v4.43. Please use an appropriate `Cache` class (https://huggingface.co/docs/transformers/v4.41.3/en/internal/generation_utils#transformers.Cache)\n"
     ]
    },
    {
     "name": "stdout",
     "output_type": "stream",
     "text": [
      "Someone is swimming<|endoftext|>\n"
     ]
    }
   ],
   "source": [
    "from src.model.model import load_TeMoLLM_Retrieval\n",
    "\n",
    "model_dir = \"/data/jw/motion/TextMotionRetrieval/TMR_LLM/result/train/64_0.8_32_256_20240720_1356\"\n",
    "TeMoLLM = load_TeMoLLM_Retrieval(model_dir=model_dir)\n",
    "\n",
    "return_outputs = TeMoLLM.Text_Motion_Retrieval(prompt=\"Someone is swimming\", max_mot_per_ret=5)"
   ]
  }
 ],
 "metadata": {
  "kernelspec": {
   "display_name": "llm-motion",
   "language": "python",
   "name": "python3"
  },
  "language_info": {
   "codemirror_mode": {
    "name": "ipython",
    "version": 3
   },
   "file_extension": ".py",
   "mimetype": "text/x-python",
   "name": "python",
   "nbconvert_exporter": "python",
   "pygments_lexer": "ipython3",
   "version": "3.8.19"
  }
 },
 "nbformat": 4,
 "nbformat_minor": 2
}
